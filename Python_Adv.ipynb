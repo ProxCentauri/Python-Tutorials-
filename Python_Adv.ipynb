{
  "nbformat": 4,
  "nbformat_minor": 0,
  "metadata": {
    "colab": {
      "provenance": [],
      "authorship_tag": "ABX9TyNjYsDOW2Ypvt2pyciwM3VS",
      "include_colab_link": true
    },
    "kernelspec": {
      "name": "python3",
      "display_name": "Python 3"
    },
    "language_info": {
      "name": "python"
    }
  },
  "cells": [
    {
      "cell_type": "markdown",
      "metadata": {
        "id": "view-in-github",
        "colab_type": "text"
      },
      "source": [
        "<a href=\"https://colab.research.google.com/github/ProxCentauri/Python-Tutorials-/blob/main/Python_Adv.ipynb\" target=\"_parent\"><img src=\"https://colab.research.google.com/assets/colab-badge.svg\" alt=\"Open In Colab\"/></a>"
      ]
    },
    {
      "cell_type": "markdown",
      "source": [
        "# **Python Iterator**\n",
        "An iterator is an object that can be iterated upon, meaning you can traverse through all the values. It implements two methods: __iter__() and __next__()"
      ],
      "metadata": {
        "id": "frl_IQwKI4wY"
      }
    },
    {
      "cell_type": "code",
      "execution_count": 1,
      "metadata": {
        "colab": {
          "base_uri": "https://localhost:8080/"
        },
        "id": "L3UXsJqgI1D1",
        "outputId": "a5648423-3ace-4776-be3b-b954252ebb82"
      },
      "outputs": [
        {
          "output_type": "stream",
          "name": "stdout",
          "text": [
            "1\n",
            "2\n",
            "3\n",
            "4\n",
            "5\n"
          ]
        }
      ],
      "source": [
        "# A simple iterator\n",
        "class MyIterator:\n",
        "    def __init__(self, limit):\n",
        "        self.limit = limit\n",
        "        self.counter = 0\n",
        "\n",
        "    def __iter__(self):\n",
        "        return self\n",
        "\n",
        "    def __next__(self):\n",
        "        if self.counter < self.limit:\n",
        "            self.counter += 1\n",
        "            return self.counter\n",
        "        else:\n",
        "            raise StopIteration\n",
        "\n",
        "# Using the iterator\n",
        "for num in MyIterator(5):\n",
        "    print(num)"
      ]
    },
    {
      "cell_type": "code",
      "source": [
        "# Using a built-in iterator\n",
        "my_list = [1, 2, 3]\n",
        "my_iterator = iter(my_list)\n",
        "\n",
        "print(next(my_iterator))  # Output: 1\n",
        "print(next(my_iterator))  # Output: 2\n",
        "print(next(my_iterator))  # Output: 3\n",
        "# print(next(my_iterator))  # Raises StopIteration"
      ],
      "metadata": {
        "colab": {
          "base_uri": "https://localhost:8080/"
        },
        "id": "kO5u1aIOKhuT",
        "outputId": "ff1b5233-5ad3-4a71-b2f9-2f0cb0621ff2"
      },
      "execution_count": 12,
      "outputs": [
        {
          "output_type": "stream",
          "name": "stdout",
          "text": [
            "1\n",
            "2\n",
            "3\n"
          ]
        }
      ]
    },
    {
      "cell_type": "markdown",
      "source": [
        "# **Python Generator**\n",
        "Generators are a simpler way to create iterators using yield keyword."
      ],
      "metadata": {
        "id": "G01flQeIJJ61"
      }
    },
    {
      "cell_type": "code",
      "source": [
        "# A simple generator function\n",
        "def my_generator(limit):\n",
        "    counter = 0\n",
        "    while counter < limit:\n",
        "        counter += 1\n",
        "        yield counter\n",
        "\n",
        "# Using the generator\n",
        "for num in my_generator(5):\n",
        "    print(num)"
      ],
      "metadata": {
        "colab": {
          "base_uri": "https://localhost:8080/"
        },
        "id": "7XUxVewTJQUn",
        "outputId": "e5d62486-f216-495a-cf0b-37ecf9081048"
      },
      "execution_count": 2,
      "outputs": [
        {
          "output_type": "stream",
          "name": "stdout",
          "text": [
            "1\n",
            "2\n",
            "3\n",
            "4\n",
            "5\n"
          ]
        }
      ]
    },
    {
      "cell_type": "code",
      "source": [
        "# A simple generator function\n",
        "def simple_generator():\n",
        "    yield 1\n",
        "    yield 2\n",
        "    yield 3\n",
        "\n",
        "# Using the generator\n",
        "gen = simple_generator()\n",
        "print(next(gen))  # Output: 1\n",
        "print(next(gen))  # Output: 2\n",
        "print(next(gen))  # Output: 3\n",
        "# print(next(gen))  # Raises StopIteration"
      ],
      "metadata": {
        "colab": {
          "base_uri": "https://localhost:8080/"
        },
        "id": "7AMZsodvKecG",
        "outputId": "5bdc2bd3-e2d3-44a0-d7ec-4ad6f2b149c9"
      },
      "execution_count": 11,
      "outputs": [
        {
          "output_type": "stream",
          "name": "stdout",
          "text": [
            "1\n",
            "2\n",
            "3\n"
          ]
        }
      ]
    },
    {
      "cell_type": "markdown",
      "source": [
        "# **Python Closure**\n",
        "A closure is a function object that remembers values in enclosing scopes even if they are not present in memory."
      ],
      "metadata": {
        "id": "iFsZsbQRJcbu"
      }
    },
    {
      "cell_type": "code",
      "source": [
        "def outer_function(msg):\n",
        "    def inner_function():\n",
        "        print(msg)\n",
        "    return inner_function\n",
        "\n",
        "closure_func = outer_function(\"Hello, World!\")\n",
        "closure_func()"
      ],
      "metadata": {
        "colab": {
          "base_uri": "https://localhost:8080/"
        },
        "id": "9nFVmkbPJg7t",
        "outputId": "0e7a6748-7716-405a-c85b-93f9a7a9e685"
      },
      "execution_count": 3,
      "outputs": [
        {
          "output_type": "stream",
          "name": "stdout",
          "text": [
            "Hello, World!\n"
          ]
        }
      ]
    },
    {
      "cell_type": "code",
      "source": [
        "def outer():\n",
        "    msg = \"Hello\"\n",
        "    def inner():\n",
        "        print(msg)\n",
        "    return inner\n",
        "\n",
        "# Using the closure\n",
        "closure_func = outer()\n",
        "closure_func()  # Output: Hello"
      ],
      "metadata": {
        "colab": {
          "base_uri": "https://localhost:8080/"
        },
        "id": "09N0ptvIKbHG",
        "outputId": "d7d6a7ab-97e7-4213-e23a-cded2292a54b"
      },
      "execution_count": 10,
      "outputs": [
        {
          "output_type": "stream",
          "name": "stdout",
          "text": [
            "Hello\n"
          ]
        }
      ]
    },
    {
      "cell_type": "markdown",
      "source": [
        "# **Python Decorators**\n",
        "Decorators are a way to modify or enhance functions or methods without changing their definition."
      ],
      "metadata": {
        "id": "LYIEta_4Jkgy"
      }
    },
    {
      "cell_type": "code",
      "source": [
        "# A simple decorator\n",
        "def my_decorator(func):\n",
        "    def wrapper():\n",
        "        print(\"Something is happening before the function is called.\")\n",
        "        func()\n",
        "        print(\"Something is happening after the function is called.\")\n",
        "    return wrapper\n",
        "\n",
        "@my_decorator\n",
        "def say_hello():\n",
        "    print(\"Hello!\")\n",
        "\n",
        "say_hello()"
      ],
      "metadata": {
        "colab": {
          "base_uri": "https://localhost:8080/"
        },
        "id": "EdIzMvM7Jn8g",
        "outputId": "3f4f19b0-bbf8-4c12-e9b9-75a3bccc6bc8"
      },
      "execution_count": 4,
      "outputs": [
        {
          "output_type": "stream",
          "name": "stdout",
          "text": [
            "Something is happening before the function is called.\n",
            "Hello!\n",
            "Something is happening after the function is called.\n"
          ]
        }
      ]
    },
    {
      "cell_type": "code",
      "source": [
        "# A simple decorator\n",
        "def my_decorator(func):\n",
        "    def wrapper():\n",
        "        print(\"Before the function.\")\n",
        "        func()\n",
        "        print(\"After the function.\")\n",
        "    return wrapper\n",
        "\n",
        "@my_decorator\n",
        "def say_hello():\n",
        "    print(\"Hello!\")\n",
        "\n",
        "say_hello()\n",
        "# Output:\n",
        "# Before the function.\n",
        "# Hello!\n",
        "# After the function."
      ],
      "metadata": {
        "colab": {
          "base_uri": "https://localhost:8080/"
        },
        "id": "Hu7vZ6-cKYCV",
        "outputId": "71712e33-23cb-47e2-c055-542aa17bef1d"
      },
      "execution_count": 9,
      "outputs": [
        {
          "output_type": "stream",
          "name": "stdout",
          "text": [
            "Before the function.\n",
            "Hello!\n",
            "After the function.\n"
          ]
        }
      ]
    },
    {
      "cell_type": "markdown",
      "source": [
        "# **Python Property**\n",
        "Properties provide a way of customizing access to instance attributes."
      ],
      "metadata": {
        "id": "Ba71qEYQJ1f2"
      }
    },
    {
      "cell_type": "code",
      "source": [
        "class MyClass:\n",
        "    def __init__(self):\n",
        "        self._x = None\n",
        "\n",
        "    @property\n",
        "    def x(self):\n",
        "        return self._x\n",
        "\n",
        "    @x.setter\n",
        "    def x(self, value):\n",
        "        if value < 0:\n",
        "            raise ValueError(\"x cannot be negative\")\n",
        "        self._x = value\n",
        "\n",
        "obj = MyClass()\n",
        "obj.x = 10\n",
        "print(obj.x)"
      ],
      "metadata": {
        "colab": {
          "base_uri": "https://localhost:8080/"
        },
        "id": "yBrOI3ylJ7eu",
        "outputId": "15ef6dcd-2da4-4384-a099-13cc7b2a02fc"
      },
      "execution_count": 5,
      "outputs": [
        {
          "output_type": "stream",
          "name": "stdout",
          "text": [
            "10\n"
          ]
        }
      ]
    },
    {
      "cell_type": "code",
      "source": [
        "class MyClass:\n",
        "    def __init__(self):\n",
        "        self._x = 0\n",
        "\n",
        "    @property\n",
        "    def x(self):\n",
        "        return self._x\n",
        "\n",
        "    @x.setter\n",
        "    def x(self, value):\n",
        "        self._x = value\n",
        "\n",
        "obj = MyClass()\n",
        "obj.x = 5\n",
        "print(obj.x)  # Output: 5"
      ],
      "metadata": {
        "id": "6M_Jo-FTKU1g"
      },
      "execution_count": null,
      "outputs": []
    },
    {
      "cell_type": "markdown",
      "source": [
        "# **Python RegEx**\n",
        "Regular Expressions (RegEx) are used for string searching and manipulation."
      ],
      "metadata": {
        "id": "hLfioM3eJ_SK"
      }
    },
    {
      "cell_type": "code",
      "source": [
        "import re\n",
        "\n",
        "# A simple regex pattern\n",
        "pattern = r\"\\b[A-Za-z]{4}\\b\"\n",
        "\n",
        "# String to search\n",
        "text = \"This is a test string with some four-letter words.\"\n",
        "\n",
        "# Find all matches\n",
        "matches = re.findall(pattern, text)\n",
        "print(matches)  # Output: ['This', 'test', 'with', 'some']\n",
        "\n",
        "# Explanation:\n",
        "# \\b : Word boundary\n",
        "# [A-Za-z] : Any uppercase or lowercase letter\n",
        "# {4} : Exactly 4 characters long"
      ],
      "metadata": {
        "colab": {
          "base_uri": "https://localhost:8080/"
        },
        "id": "XB9bLQkwKD9o",
        "outputId": "bfcc31fb-4ae4-4c96-a6a7-c28f2d14ed99"
      },
      "execution_count": 6,
      "outputs": [
        {
          "output_type": "stream",
          "name": "stdout",
          "text": [
            "['This', 'test', 'with', 'some', 'four']\n"
          ]
        }
      ]
    },
    {
      "cell_type": "code",
      "source": [
        "import re\n",
        "\n",
        "# A simple regex pattern\n",
        "pattern = r\"cat\"\n",
        "\n",
        "# String to search\n",
        "text = \"The cat sat on the mat.\"\n",
        "\n",
        "# Find all matches\n",
        "matches = re.findall(pattern, text)\n",
        "print(matches)  # Output: ['cat']"
      ],
      "metadata": {
        "colab": {
          "base_uri": "https://localhost:8080/"
        },
        "id": "A1c8j1eoKR0f",
        "outputId": "80244425-2277-4153-bc64-18b9daf76834"
      },
      "execution_count": 7,
      "outputs": [
        {
          "output_type": "stream",
          "name": "stdout",
          "text": [
            "['cat']\n"
          ]
        }
      ]
    }
  ]
}