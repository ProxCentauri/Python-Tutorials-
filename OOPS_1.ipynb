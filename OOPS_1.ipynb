{
  "nbformat": 4,
  "nbformat_minor": 0,
  "metadata": {
    "colab": {
      "provenance": [],
      "authorship_tag": "ABX9TyO9/EX5Vga68LUluh6qd4rx",
      "include_colab_link": true
    },
    "kernelspec": {
      "name": "python3",
      "display_name": "Python 3"
    },
    "language_info": {
      "name": "python"
    }
  },
  "cells": [
    {
      "cell_type": "markdown",
      "metadata": {
        "id": "view-in-github",
        "colab_type": "text"
      },
      "source": [
        "<a href=\"https://colab.research.google.com/github/ProxCentauri/Python-Tutorials-/blob/main/OOPS_1.ipynb\" target=\"_parent\"><img src=\"https://colab.research.google.com/assets/colab-badge.svg\" alt=\"Open In Colab\"/></a>"
      ]
    },
    {
      "cell_type": "markdown",
      "source": [
        "**1. Classes and Objects**\n",
        "\n",
        "A class is a blueprint for creating objects. It defines a set of attributes and methods that the objects created from the class can use.\n",
        "\n",
        "An object is an instance of a class. It's a specific realization of a class."
      ],
      "metadata": {
        "id": "vYem3YXTqgTP"
      }
    },
    {
      "cell_type": "code",
      "execution_count": null,
      "metadata": {
        "id": "uu7SZvi1qZ-1"
      },
      "outputs": [],
      "source": [
        "class Student:\n",
        "    pass\n",
        "\n",
        "# Creating an object of the Student class\n",
        "s1 = Student()"
      ]
    },
    {
      "cell_type": "code",
      "source": [
        "class Student:\n",
        "    name = \"karan\"\n",
        "\n",
        "    def __init__(self):\n",
        "        print(self)\n",
        "        print(\"adding new student in Database..\")\n",
        "\n",
        "# Creating an instance of the Student class\n",
        "s1 = Student()"
      ],
      "metadata": {
        "id": "wXgg_MNU1CUI",
        "outputId": "3eeb7e1f-258d-4ca1-9afc-a94f5e410488",
        "colab": {
          "base_uri": "https://localhost:8080/"
        }
      },
      "execution_count": null,
      "outputs": [
        {
          "output_type": "stream",
          "name": "stdout",
          "text": [
            "<__main__.Student object at 0x7996526e5660>\n",
            "adding new student in Database..\n"
          ]
        }
      ]
    },
    {
      "cell_type": "markdown",
      "source": [
        "**2. Class Attributes**\n",
        "\n",
        "Class attributes are variables that are shared among all instances of a class. They are defined within the class but outside any instance methods."
      ],
      "metadata": {
        "id": "m3hfKJzfqs8w"
      }
    },
    {
      "cell_type": "code",
      "source": [
        "class Student:\n",
        "    college_name = \"ABC College\"\n",
        "\n",
        "# Accessing class attribute\n",
        "print(Student.college_name)"
      ],
      "metadata": {
        "colab": {
          "base_uri": "https://localhost:8080/"
        },
        "id": "M2cazAwqq16s",
        "outputId": "30d5fcdf-39cd-469d-828f-5d37bbecdb1b"
      },
      "execution_count": null,
      "outputs": [
        {
          "output_type": "stream",
          "name": "stdout",
          "text": [
            "ABC College\n"
          ]
        }
      ]
    },
    {
      "cell_type": "markdown",
      "source": [
        "**3. Object Attributes**\n",
        "\n",
        "Object attributes are variables that are unique to each instance of a class. They are typically defined in the constructor method."
      ],
      "metadata": {
        "id": "fnUSG2Gzq9cO"
      }
    },
    {
      "cell_type": "code",
      "source": [
        "class Student:\n",
        "    def __init__(self, name, marks):\n",
        "        self.name = name\n",
        "        self.marks = marks\n",
        "\n",
        "# Creating an object with attributes\n",
        "s1 = Student(\"Karan\", 97)\n",
        "print(s1.name)\n",
        "print(s1.marks)"
      ],
      "metadata": {
        "colab": {
          "base_uri": "https://localhost:8080/"
        },
        "id": "-JNdORG5q7ZO",
        "outputId": "25aa9718-90d2-4c83-f4e6-987832fab4b2"
      },
      "execution_count": null,
      "outputs": [
        {
          "output_type": "stream",
          "name": "stdout",
          "text": [
            "Karan\n",
            "97\n"
          ]
        }
      ]
    },
    {
      "cell_type": "markdown",
      "source": [
        "**4. The self Parameter**\n",
        "\n",
        "The self parameter is a reference to the current instance of the class. It is used to access variables that belong to the class."
      ],
      "metadata": {
        "id": "N9qJr4NirDV_"
      }
    },
    {
      "cell_type": "code",
      "source": [
        "class Student:\n",
        "    def __init__(self, name, marks):\n",
        "        self.name = name\n",
        "        self.marks = marks\n",
        "\n",
        "    def welcome(self):\n",
        "        print(\"Welcome student,\", self.name)\n",
        "\n",
        "# Creating an object and calling a method\n",
        "s1 = Student(\"Karan\", 97)\n",
        "s1.welcome()"
      ],
      "metadata": {
        "colab": {
          "base_uri": "https://localhost:8080/"
        },
        "id": "ETiIom8LrIKr",
        "outputId": "86fbb4c3-df2f-4cb7-e226-5ceef0537b40"
      },
      "execution_count": null,
      "outputs": [
        {
          "output_type": "stream",
          "name": "stdout",
          "text": [
            "Welcome student, Karan\n"
          ]
        }
      ]
    },
    {
      "cell_type": "markdown",
      "source": [
        "**5. Default Constructor and Parameterized Constructor**\n",
        "\n",
        "A constructor is a special method that is called when an object is instantiated. The __init__ method in Python is the constructor method."
      ],
      "metadata": {
        "id": "98XNTwFGrKuk"
      }
    },
    {
      "cell_type": "code",
      "source": [
        "#Default Constructor\n",
        "class Student:\n",
        "    def __init__(self):\n",
        "        self.name = \"Default Name\"\n",
        "        self.marks = 0\n",
        "\n",
        "# Creating an object with default values\n",
        "s1 = Student()\n",
        "print(s1.name)\n",
        "print(s1.marks)"
      ],
      "metadata": {
        "colab": {
          "base_uri": "https://localhost:8080/"
        },
        "id": "cGV-_OhTrPLq",
        "outputId": "d5619eee-d49c-4a13-b153-7354b7469d4f"
      },
      "execution_count": null,
      "outputs": [
        {
          "output_type": "stream",
          "name": "stdout",
          "text": [
            "Default Name\n",
            "0\n"
          ]
        }
      ]
    },
    {
      "cell_type": "code",
      "source": [
        "#Parameterized Constructor\n",
        "class Student:\n",
        "    def __init__(self, name, marks):\n",
        "        self.name = name\n",
        "        self.marks = marks\n",
        "\n",
        "# Creating an object with given values\n",
        "s1 = Student(\"Karan\", 97)\n",
        "print(s1.name)\n",
        "print(s1.marks)"
      ],
      "metadata": {
        "colab": {
          "base_uri": "https://localhost:8080/"
        },
        "id": "iamktfr2rV2Y",
        "outputId": "ce84e06b-c729-4d48-d92f-e5e48fcffcea"
      },
      "execution_count": null,
      "outputs": [
        {
          "output_type": "stream",
          "name": "stdout",
          "text": [
            "Karan\n",
            "97\n"
          ]
        }
      ]
    },
    {
      "cell_type": "markdown",
      "source": [
        "**6. Methods**\n",
        "\n",
        "Methods are functions defined inside a class that describe the behaviors of the objects."
      ],
      "metadata": {
        "id": "3iaFWDdyrfnM"
      }
    },
    {
      "cell_type": "code",
      "source": [
        "class Student:\n",
        "    college_name = \"ABC College\"\n",
        "\n",
        "    def __init__(self, name, marks):\n",
        "        self.name = name\n",
        "        self.marks = marks\n",
        "\n",
        "    def welcome(self):\n",
        "        print(\"Welcome student,\", self.name)\n",
        "\n",
        "    def get_marks(self):\n",
        "        return self.marks\n",
        "\n",
        "# Creating an object and calling methods\n",
        "s1 = Student(\"Karan\", 97)\n",
        "s1.welcome()\n",
        "print(s1.get_marks())"
      ],
      "metadata": {
        "colab": {
          "base_uri": "https://localhost:8080/"
        },
        "id": "_2M43rsurepC",
        "outputId": "fcfd018b-c068-4204-b2ee-58654afb810c"
      },
      "execution_count": null,
      "outputs": [
        {
          "output_type": "stream",
          "name": "stdout",
          "text": [
            "Welcome student, Karan\n",
            "97\n"
          ]
        }
      ]
    },
    {
      "cell_type": "code",
      "source": [
        "#All Together\n",
        "class Student:\n",
        "    # Class attribute\n",
        "    college_name = \"ABC College\"\n",
        "\n",
        "    # Parameterized constructor\n",
        "    def __init__(self, name, marks):\n",
        "        # Object attributes\n",
        "        self.name = name\n",
        "        self.marks = marks\n",
        "\n",
        "    # Method to print a welcome message\n",
        "    def welcome(self):\n",
        "        print(\"Welcome student,\", self.name)\n",
        "\n",
        "    # Method to get the student's marks\n",
        "    def get_marks(self):\n",
        "        return self.marks\n",
        "\n",
        "# Creating an object of the Student class\n",
        "s1 = Student(\"Karan\", 97)\n",
        "\n",
        "# Calling methods on the object\n",
        "s1.welcome()\n",
        "print(s1.get_marks())"
      ],
      "metadata": {
        "colab": {
          "base_uri": "https://localhost:8080/"
        },
        "id": "OrFY64nqroKP",
        "outputId": "4165ccf4-0e1c-498f-f1da-234699fd9c23"
      },
      "execution_count": null,
      "outputs": [
        {
          "output_type": "stream",
          "name": "stdout",
          "text": [
            "Welcome student, Karan\n",
            "97\n"
          ]
        }
      ]
    },
    {
      "cell_type": "markdown",
      "source": [
        "**Problem Statement:**\n",
        "\n",
        "Create a Student class that takes a student's name and a list of marks for 3 subjects as arguments in the constructor. Implement a method in the class to calculate and print the average of these marks."
      ],
      "metadata": {
        "id": "uSBy95CAr9ie"
      }
    },
    {
      "cell_type": "markdown",
      "source": [
        "To solve this -\n",
        "1. Define the Student class:\n",
        "2. Initialize with name and marks:\n",
        "3. Create a method to calculate the average:\n",
        "4. Create an instance and test the method:"
      ],
      "metadata": {
        "id": "uxsfFGYAr98_"
      }
    },
    {
      "cell_type": "code",
      "source": [
        "class Student:\n",
        "    def __init__(self, name, marks):\n",
        "        self.name = name\n",
        "        self.marks = marks\n",
        "\n",
        "    def average_marks(self):\n",
        "        if len(self.marks) == 3:\n",
        "            avg = sum(self.marks) / 3\n",
        "            print(f\"The average marks of {self.name} are {avg}\")\n",
        "        else:\n",
        "            print(\"Please provide exactly 3 marks\")\n",
        "\n",
        "# Creating an object of the Student class with a list of 3 marks\n",
        "s1 = Student(\"Karan\", [85, 90, 80])\n",
        "\n",
        "# Calling the method to print the average marks\n",
        "s1.average_marks()"
      ],
      "metadata": {
        "id": "u9iIqqLNshA9",
        "outputId": "cd002224-e35d-4e30-802d-1eb2c11b369c",
        "colab": {
          "base_uri": "https://localhost:8080/"
        }
      },
      "execution_count": null,
      "outputs": [
        {
          "output_type": "stream",
          "name": "stdout",
          "text": [
            "The average marks of Karan are 85.0\n"
          ]
        }
      ]
    },
    {
      "cell_type": "code",
      "source": [
        "class Person:\n",
        "    name = \"ABC\" #classs attri\n",
        "    def __init__ (self, name):\n",
        "        # self allows to attach parameter to the class\n",
        "          self.name =name\n",
        "\n",
        "p = Person('Milaan') #obj attri\n",
        "print(p.name)\n",
        "print(p) # precedence of Object attri >> calss attribute"
      ],
      "metadata": {
        "colab": {
          "base_uri": "https://localhost:8080/"
        },
        "id": "jxzvuO-BlB0h",
        "outputId": "40a56f8c-66fa-4a90-ef42-6ab4228197a9"
      },
      "execution_count": null,
      "outputs": [
        {
          "output_type": "stream",
          "name": "stdout",
          "text": [
            "Milaan\n",
            "<__main__.Person object at 0x7b0e369e5210>\n"
          ]
        }
      ]
    }
  ]
}