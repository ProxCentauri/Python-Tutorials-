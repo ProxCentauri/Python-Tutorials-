{
  "nbformat": 4,
  "nbformat_minor": 0,
  "metadata": {
    "colab": {
      "provenance": [],
      "authorship_tag": "ABX9TyMhrVGHovV1iuJh+GuW9DvN",
      "include_colab_link": true
    },
    "kernelspec": {
      "name": "python3",
      "display_name": "Python 3"
    },
    "language_info": {
      "name": "python"
    }
  },
  "cells": [
    {
      "cell_type": "markdown",
      "metadata": {
        "id": "view-in-github",
        "colab_type": "text"
      },
      "source": [
        "<a href=\"https://colab.research.google.com/github/ProxCentauri/Python-Tutorials-/blob/main/NumPy.ipynb\" target=\"_parent\"><img src=\"https://colab.research.google.com/assets/colab-badge.svg\" alt=\"Open In Colab\"/></a>"
      ]
    },
    {
      "cell_type": "markdown",
      "source": [
        "# **What is NumPy?**\n",
        "\n",
        "NumPy stands for Numerical Python.\n",
        "\n",
        "It's a library for numerical computing with powerful support for multi-dimensional arrays and matrices, along with a collection of mathematical functions to operate on these arrays.\n",
        "\n",
        "Use cases include scientific computing, data analysis, and machine learning."
      ],
      "metadata": {
        "id": "Pe4f8cTVTJg-"
      }
    },
    {
      "cell_type": "code",
      "execution_count": 1,
      "metadata": {
        "colab": {
          "base_uri": "https://localhost:8080/"
        },
        "id": "lQEEbvLOSbQN",
        "outputId": "19ead2a3-91af-47a1-ecf1-23644c006bf6"
      },
      "outputs": [
        {
          "output_type": "stream",
          "name": "stdout",
          "text": [
            "Requirement already satisfied: numpy in /usr/local/lib/python3.10/dist-packages (1.26.4)\n"
          ]
        }
      ],
      "source": [
        "pip install numpy"
      ]
    },
    {
      "cell_type": "code",
      "source": [
        "import numpy as np\n",
        "print(np.__version__)"
      ],
      "metadata": {
        "colab": {
          "base_uri": "https://localhost:8080/"
        },
        "id": "ZfiHsqz9Td0b",
        "outputId": "3eb96b08-b0c5-4650-ff4f-77d6cb3f9ab1"
      },
      "execution_count": 2,
      "outputs": [
        {
          "output_type": "stream",
          "name": "stdout",
          "text": [
            "1.26.4\n"
          ]
        }
      ]
    },
    {
      "cell_type": "markdown",
      "source": [
        "# **Creating NumPy Arrays:**\n",
        "**from Python List**"
      ],
      "metadata": {
        "id": "iGJ0bUoXTlXY"
      }
    },
    {
      "cell_type": "code",
      "source": [
        "arr = np.array([1, 2, 3])"
      ],
      "metadata": {
        "id": "cSZ9YH4JTk3m"
      },
      "execution_count": 3,
      "outputs": []
    },
    {
      "cell_type": "markdown",
      "source": [
        "**Array Attributes:**\n",
        "\n",
        "Shape, size, and data type"
      ],
      "metadata": {
        "id": "LDIIyyhQTxZz"
      }
    },
    {
      "cell_type": "code",
      "source": [
        "print(arr.shape)  # (3,)\n",
        "print(arr.size)   # 3\n",
        "print(arr.dtype)  # int64 (may vary)"
      ],
      "metadata": {
        "colab": {
          "base_uri": "https://localhost:8080/"
        },
        "id": "DsUiS06iTu7B",
        "outputId": "de6e03d9-d4c7-4764-ff78-2cf9878a361f"
      },
      "execution_count": 4,
      "outputs": [
        {
          "output_type": "stream",
          "name": "stdout",
          "text": [
            "(3,)\n",
            "3\n",
            "int64\n"
          ]
        }
      ]
    },
    {
      "cell_type": "markdown",
      "source": [
        "# **Array Initialization:**"
      ],
      "metadata": {
        "id": "_7iEI34tT_FM"
      }
    },
    {
      "cell_type": "markdown",
      "source": [
        "Zeros:"
      ],
      "metadata": {
        "id": "DGBvn2-kUHZU"
      }
    },
    {
      "cell_type": "code",
      "source": [
        "zeros_arr = np.zeros((3, 3))\n",
        "print(zeros_arr)"
      ],
      "metadata": {
        "colab": {
          "base_uri": "https://localhost:8080/"
        },
        "id": "b3qtkXq4UGZ1",
        "outputId": "08782653-e8cd-42ca-fc3e-61c9cd7ac321"
      },
      "execution_count": 5,
      "outputs": [
        {
          "output_type": "stream",
          "name": "stdout",
          "text": [
            "[[0. 0. 0.]\n",
            " [0. 0. 0.]\n",
            " [0. 0. 0.]]\n"
          ]
        }
      ]
    },
    {
      "cell_type": "markdown",
      "source": [
        "Ones:"
      ],
      "metadata": {
        "id": "j6-_6_vvULZf"
      }
    },
    {
      "cell_type": "code",
      "source": [
        "ones_arr = np.ones((2, 2))\n",
        "print(ones_arr)"
      ],
      "metadata": {
        "colab": {
          "base_uri": "https://localhost:8080/"
        },
        "id": "CHmBM2IJUPJD",
        "outputId": "22d3c903-51fc-41c7-f25a-502bf275ae02"
      },
      "execution_count": 6,
      "outputs": [
        {
          "output_type": "stream",
          "name": "stdout",
          "text": [
            "[[1. 1.]\n",
            " [1. 1.]]\n"
          ]
        }
      ]
    },
    {
      "cell_type": "markdown",
      "source": [
        "Full:"
      ],
      "metadata": {
        "id": "Y6Ma6f_5US7C"
      }
    },
    {
      "cell_type": "code",
      "source": [
        "full_arr = np.full((2, 3), 7)\n",
        "print(full_arr)"
      ],
      "metadata": {
        "colab": {
          "base_uri": "https://localhost:8080/"
        },
        "id": "kN3Y6tpKUT7h",
        "outputId": "f447c079-da19-42e3-c126-b26843b888eb"
      },
      "execution_count": 7,
      "outputs": [
        {
          "output_type": "stream",
          "name": "stdout",
          "text": [
            "[[7 7 7]\n",
            " [7 7 7]]\n"
          ]
        }
      ]
    },
    {
      "cell_type": "markdown",
      "source": [
        "Arange:"
      ],
      "metadata": {
        "id": "wax6ZaczUXsn"
      }
    },
    {
      "cell_type": "code",
      "source": [
        "range_arr = np.arange(0, 10, 2)\n",
        "print(range_arr)"
      ],
      "metadata": {
        "colab": {
          "base_uri": "https://localhost:8080/"
        },
        "id": "ZWv7HZs3UYcz",
        "outputId": "6addaacd-ad79-481a-df19-25764afff01e"
      },
      "execution_count": 8,
      "outputs": [
        {
          "output_type": "stream",
          "name": "stdout",
          "text": [
            "[0 2 4 6 8]\n"
          ]
        }
      ]
    },
    {
      "cell_type": "markdown",
      "source": [
        "Linspace:"
      ],
      "metadata": {
        "id": "DTfFCX4hUbWw"
      }
    },
    {
      "cell_type": "code",
      "source": [
        "linspace_arr = np.linspace(0, 1, 5)\n",
        "print(linspace_arr)"
      ],
      "metadata": {
        "colab": {
          "base_uri": "https://localhost:8080/"
        },
        "id": "U0qbJnBIUcE7",
        "outputId": "873d12ca-d4c1-491a-dfe0-90fef4e31a10"
      },
      "execution_count": 9,
      "outputs": [
        {
          "output_type": "stream",
          "name": "stdout",
          "text": [
            "[0.   0.25 0.5  0.75 1.  ]\n"
          ]
        }
      ]
    },
    {
      "cell_type": "markdown",
      "source": [
        "Random:"
      ],
      "metadata": {
        "id": "F8xdDGJuUjvq"
      }
    },
    {
      "cell_type": "code",
      "source": [
        "random_arr = np.random.random((3, 3))\n",
        "print(random_arr)"
      ],
      "metadata": {
        "id": "crcoWl1AUcK6"
      },
      "execution_count": null,
      "outputs": []
    },
    {
      "cell_type": "code",
      "source": [
        "#Example\n",
        "arr = np.array([[1, 2, 3], [4, 5, 6]])\n",
        "print(arr)\n",
        "print(\"Shape:\", arr.shape)\n",
        "print(\"Size:\", arr.size)\n",
        "print(\"Data type:\", arr.dtype)"
      ],
      "metadata": {
        "colab": {
          "base_uri": "https://localhost:8080/"
        },
        "id": "sGNuZUpEUoHT",
        "outputId": "eb9dba6f-d7a1-4341-8182-a6bd00796014"
      },
      "execution_count": 10,
      "outputs": [
        {
          "output_type": "stream",
          "name": "stdout",
          "text": [
            "[[1 2 3]\n",
            " [4 5 6]]\n",
            "Shape: (2, 3)\n",
            "Size: 6\n",
            "Data type: int64\n"
          ]
        }
      ]
    },
    {
      "cell_type": "markdown",
      "source": [
        "# **Basic Operations**"
      ],
      "metadata": {
        "id": "xqTrq717UuLE"
      }
    },
    {
      "cell_type": "markdown",
      "source": [
        "**Element-wise Operations**"
      ],
      "metadata": {
        "id": "Q7hhFjiIU7en"
      }
    },
    {
      "cell_type": "code",
      "source": [
        "arr1 = np.array([1, 2, 3])\n",
        "arr2 = np.array([4, 5, 6])\n",
        "\n",
        "add = arr1 + arr2\n",
        "subtract = arr1 - arr2\n",
        "multiply = arr1 * arr2\n",
        "divide = arr1 / arr2\n",
        "\n",
        "print(\"Add:\", add)\n",
        "print(\"Subtract:\", subtract)\n",
        "print(\"Multiply:\", multiply)\n",
        "print(\"Divide:\", divide)"
      ],
      "metadata": {
        "colab": {
          "base_uri": "https://localhost:8080/"
        },
        "id": "bIDFEIdaU1lv",
        "outputId": "02821789-e522-4407-cd8d-6287fd5e34ff"
      },
      "execution_count": 11,
      "outputs": [
        {
          "output_type": "stream",
          "name": "stdout",
          "text": [
            "Add: [5 7 9]\n",
            "Subtract: [-3 -3 -3]\n",
            "Multiply: [ 4 10 18]\n",
            "Divide: [0.25 0.4  0.5 ]\n"
          ]
        }
      ]
    },
    {
      "cell_type": "markdown",
      "source": [
        "**Basic Mathematical Functions**"
      ],
      "metadata": {
        "id": "Uxy9urfOVFJx"
      }
    },
    {
      "cell_type": "code",
      "source": [
        "sum_arr = np.sum(arr1)\n",
        "mean_arr = np.mean(arr1)\n",
        "median_arr = np.median(arr1)\n",
        "std_arr = np.std(arr1)\n",
        "\n",
        "print(\"Sum:\", sum_arr)\n",
        "print(\"Mean:\", mean_arr)\n",
        "print(\"Median:\", median_arr)\n",
        "print(\"Standard Deviation:\", std_arr)"
      ],
      "metadata": {
        "colab": {
          "base_uri": "https://localhost:8080/"
        },
        "id": "jspdLs2vVG8i",
        "outputId": "cd848bb6-2acb-4b21-b70b-03926f129c61"
      },
      "execution_count": 12,
      "outputs": [
        {
          "output_type": "stream",
          "name": "stdout",
          "text": [
            "Sum: 6\n",
            "Mean: 2.0\n",
            "Median: 2.0\n",
            "Standard Deviation: 0.816496580927726\n"
          ]
        }
      ]
    },
    {
      "cell_type": "markdown",
      "source": [
        "**Array Broadcasting:**\n",
        "\n",
        "Broadcasting allows for arithmetic operations on arrays of different shapes."
      ],
      "metadata": {
        "id": "yQgBVNkkVKaQ"
      }
    },
    {
      "cell_type": "code",
      "source": [
        "arr = np.array([1, 2, 3])\n",
        "scalar = 2\n",
        "result = arr * scalar\n",
        "print(result)  # [2, 4, 6]"
      ],
      "metadata": {
        "colab": {
          "base_uri": "https://localhost:8080/"
        },
        "id": "_85AkTdsVNGH",
        "outputId": "4c51e30c-9817-4c9f-d4e7-8fbc4a0a7a13"
      },
      "execution_count": 13,
      "outputs": [
        {
          "output_type": "stream",
          "name": "stdout",
          "text": [
            "[2 4 6]\n"
          ]
        }
      ]
    },
    {
      "cell_type": "markdown",
      "source": [
        "# **Indexing and Slicing**"
      ],
      "metadata": {
        "id": "8YLU5druVRku"
      }
    },
    {
      "cell_type": "markdown",
      "source": [
        "**Basic Indexing**"
      ],
      "metadata": {
        "id": "yY0Vd0fxVV1T"
      }
    },
    {
      "cell_type": "code",
      "source": [
        "arr = np.array([10, 20, 30, 40, 50])\n",
        "print(arr[0])  # 10\n",
        "print(arr[-1])  # 50"
      ],
      "metadata": {
        "colab": {
          "base_uri": "https://localhost:8080/"
        },
        "id": "pLqSnTafVOIf",
        "outputId": "a8a24f60-83b1-4aa0-bf37-656fffdaebf0"
      },
      "execution_count": 14,
      "outputs": [
        {
          "output_type": "stream",
          "name": "stdout",
          "text": [
            "10\n",
            "50\n"
          ]
        }
      ]
    },
    {
      "cell_type": "markdown",
      "source": [
        "**Slicing**"
      ],
      "metadata": {
        "id": "vflvv5c3VVhU"
      }
    },
    {
      "cell_type": "code",
      "source": [
        "print(arr[1:4])  # [20, 30, 40]\n",
        "print(arr[:3])  # [10, 20, 30]\n",
        "print(arr[::2])  # [10, 30, 50]"
      ],
      "metadata": {
        "colab": {
          "base_uri": "https://localhost:8080/"
        },
        "id": "UGLlzUQOVpKE",
        "outputId": "4b3022fe-7498-45ee-b17d-8f9d381598b5"
      },
      "execution_count": 15,
      "outputs": [
        {
          "output_type": "stream",
          "name": "stdout",
          "text": [
            "[20 30 40]\n",
            "[10 20 30]\n",
            "[10 30 50]\n"
          ]
        }
      ]
    },
    {
      "cell_type": "markdown",
      "source": [
        "**Boolean Indexing**"
      ],
      "metadata": {
        "id": "ZC5LqsYEVtjR"
      }
    },
    {
      "cell_type": "code",
      "source": [
        "print(arr[arr > 30])  # [40, 50]"
      ],
      "metadata": {
        "colab": {
          "base_uri": "https://localhost:8080/"
        },
        "id": "O8rvOqjUVwJL",
        "outputId": "bf32f5dd-2086-4b4c-de4d-702b376e446e"
      },
      "execution_count": 16,
      "outputs": [
        {
          "output_type": "stream",
          "name": "stdout",
          "text": [
            "[40 50]\n"
          ]
        }
      ]
    },
    {
      "cell_type": "markdown",
      "source": [
        "**Fancy Indexing**"
      ],
      "metadata": {
        "id": "TJpGW2wCVzD0"
      }
    },
    {
      "cell_type": "code",
      "source": [
        "indices = [0, 2, 4]\n",
        "print(arr[indices])  # [10, 30, 50]"
      ],
      "metadata": {
        "colab": {
          "base_uri": "https://localhost:8080/"
        },
        "id": "fHLQzh2dVyGK",
        "outputId": "872d67d3-8f8f-4154-edc6-baf8aed82f48"
      },
      "execution_count": 17,
      "outputs": [
        {
          "output_type": "stream",
          "name": "stdout",
          "text": [
            "[10 30 50]\n"
          ]
        }
      ]
    },
    {
      "cell_type": "code",
      "source": [
        "#example\n",
        "arr = np.arange(10)\n",
        "print(arr)\n",
        "print(arr[2:7])\n",
        "print(arr[arr % 2 == 0])"
      ],
      "metadata": {
        "colab": {
          "base_uri": "https://localhost:8080/"
        },
        "id": "X0R5MlsmV5j7",
        "outputId": "b0277bf6-7362-41ff-81d9-8ae92db828a6"
      },
      "execution_count": 18,
      "outputs": [
        {
          "output_type": "stream",
          "name": "stdout",
          "text": [
            "[0 1 2 3 4 5 6 7 8 9]\n",
            "[2 3 4 5 6]\n",
            "[0 2 4 6 8]\n"
          ]
        }
      ]
    },
    {
      "cell_type": "markdown",
      "source": [
        "#**Reshaping and Resizing**"
      ],
      "metadata": {
        "id": "y7C7gNAeWDUz"
      }
    },
    {
      "cell_type": "code",
      "source": [
        "#Reshaping Arrays\n",
        "arr = np.arange(6)\n",
        "reshaped_arr = arr.reshape((2, 3))\n",
        "print(reshaped_arr)"
      ],
      "metadata": {
        "colab": {
          "base_uri": "https://localhost:8080/"
        },
        "id": "RlJhiwqYWE6Y",
        "outputId": "44356745-dc0e-4cd9-eb73-c405f9cc4033"
      },
      "execution_count": 19,
      "outputs": [
        {
          "output_type": "stream",
          "name": "stdout",
          "text": [
            "[[0 1 2]\n",
            " [3 4 5]]\n"
          ]
        }
      ]
    },
    {
      "cell_type": "code",
      "source": [
        "#Flattening Arrays\n",
        "flattened_arr = reshaped_arr.ravel()\n",
        "print(flattened_arr)"
      ],
      "metadata": {
        "colab": {
          "base_uri": "https://localhost:8080/"
        },
        "id": "Q1IKttClWMmC",
        "outputId": "5a943ae3-a91f-40c8-a308-e780b3c8e008"
      },
      "execution_count": 20,
      "outputs": [
        {
          "output_type": "stream",
          "name": "stdout",
          "text": [
            "[0 1 2 3 4 5]\n"
          ]
        }
      ]
    },
    {
      "cell_type": "markdown",
      "source": [
        "# **Concatenation and Stacking**"
      ],
      "metadata": {
        "id": "RpapE0h0XX1p"
      }
    },
    {
      "cell_type": "code",
      "source": [
        "#Concatenate\n",
        "arr1 = np.array([1, 2, 3])\n",
        "arr2 = np.array([4, 5, 6])\n",
        "concatenated_arr = np.concatenate((arr1, arr2))\n",
        "print(concatenated_arr)"
      ],
      "metadata": {
        "colab": {
          "base_uri": "https://localhost:8080/"
        },
        "id": "gJfkCj7uWXO9",
        "outputId": "7f9ee14d-2458-4e42-99b1-3dce6133c47f"
      },
      "execution_count": 21,
      "outputs": [
        {
          "output_type": "stream",
          "name": "stdout",
          "text": [
            "[1 2 3 4 5 6]\n"
          ]
        }
      ]
    },
    {
      "cell_type": "code",
      "source": [
        "#Vertical Stack\n",
        "stacked_arr_v = np.vstack((arr1, arr2))\n",
        "print(stacked_arr_v)"
      ],
      "metadata": {
        "colab": {
          "base_uri": "https://localhost:8080/"
        },
        "id": "C5GgVrRVYAuq",
        "outputId": "652bbb80-a637-4b71-c70e-abd419a0958b"
      },
      "execution_count": 22,
      "outputs": [
        {
          "output_type": "stream",
          "name": "stdout",
          "text": [
            "[[1 2 3]\n",
            " [4 5 6]]\n"
          ]
        }
      ]
    },
    {
      "cell_type": "code",
      "source": [
        "#Horizontal Stack\n",
        "stacked_arr_h = np.hstack((arr1, arr2))\n",
        "print(stacked_arr_h)"
      ],
      "metadata": {
        "colab": {
          "base_uri": "https://localhost:8080/"
        },
        "id": "tmya9PgPYGxr",
        "outputId": "bebb79a2-d0a6-49d9-e5dc-0371b01a51ea"
      },
      "execution_count": 23,
      "outputs": [
        {
          "output_type": "stream",
          "name": "stdout",
          "text": [
            "[1 2 3 4 5 6]\n"
          ]
        }
      ]
    },
    {
      "cell_type": "code",
      "source": [
        "#example\n",
        "arr1 = np.array([[1, 2], [3, 4]])\n",
        "arr2 = np.array([[5, 6]])\n",
        "\n",
        "concatenated_arr = np.concatenate((arr1, arr2), axis=0)\n",
        "print(concatenated_arr)"
      ],
      "metadata": {
        "colab": {
          "base_uri": "https://localhost:8080/"
        },
        "id": "t8aLxFyKYLbS",
        "outputId": "46a3ab24-8c4c-4aca-c74b-c7b30c173edb"
      },
      "execution_count": 24,
      "outputs": [
        {
          "output_type": "stream",
          "name": "stdout",
          "text": [
            "[[1 2]\n",
            " [3 4]\n",
            " [5 6]]\n"
          ]
        }
      ]
    }
  ]
}