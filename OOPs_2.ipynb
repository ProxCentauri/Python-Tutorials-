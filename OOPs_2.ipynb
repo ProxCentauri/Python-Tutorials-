{
  "nbformat": 4,
  "nbformat_minor": 0,
  "metadata": {
    "colab": {
      "provenance": [],
      "authorship_tag": "ABX9TyNT09J3z7g7N+cMSIlwIvhf",
      "include_colab_link": true
    },
    "kernelspec": {
      "name": "python3",
      "display_name": "Python 3"
    },
    "language_info": {
      "name": "python"
    }
  },
  "cells": [
    {
      "cell_type": "markdown",
      "metadata": {
        "id": "view-in-github",
        "colab_type": "text"
      },
      "source": [
        "<a href=\"https://colab.research.google.com/github/ProxCentauri/Python-Tutorials-/blob/main/OOPs_2.ipynb\" target=\"_parent\"><img src=\"https://colab.research.google.com/assets/colab-badge.svg\" alt=\"Open In Colab\"/></a>"
      ]
    },
    {
      "cell_type": "code",
      "execution_count": null,
      "metadata": {
        "id": "N0i-eA2W92GB",
        "colab": {
          "base_uri": "https://localhost:8080/"
        },
        "outputId": "98c607c3-2679-42dc-abf0-0b15c7da07e5"
      },
      "outputs": [
        {
          "output_type": "stream",
          "name": "stdout",
          "text": [
            "Car make: Toyota, Model: Corolla\n"
          ]
        }
      ],
      "source": [
        "#Instance Method\n",
        "class Car:\n",
        "    def __init__(self, make, model):\n",
        "        self.make = make\n",
        "        self.model = model\n",
        "\n",
        "    def display_info(self):\n",
        "        return f\"Car make: {self.make}, Model: {self.model}\"\n",
        "\n",
        "# Usage\n",
        "car = Car(\"Toyota\", \"Corolla\")\n",
        "print(car.display_info())  # Output: Car make: Toyota, Model: Corolla\n"
      ]
    },
    {
      "cell_type": "code",
      "source": [
        "#class method\n",
        "class Car:\n",
        "    total_cars = 0\n",
        "\n",
        "    def __init__(self, make, model):\n",
        "        self.make = make\n",
        "        self.model = model\n",
        "        Car.total_cars += 1\n",
        "\n",
        "    @classmethod\n",
        "    def get_total_cars(cls):\n",
        "        return cls.total_cars\n",
        "\n",
        "# Usage\n",
        "car1 = Car(\"Toyota\", \"Corolla\")\n",
        "car2 = Car(\"Honda\", \"Civic\")\n",
        "print(Car.get_total_cars())  # Output: 2\n"
      ],
      "metadata": {
        "colab": {
          "base_uri": "https://localhost:8080/"
        },
        "id": "QhAWCJi9eZJ6",
        "outputId": "abdaa583-b296-4b4d-eace-793db1828653"
      },
      "execution_count": null,
      "outputs": [
        {
          "output_type": "stream",
          "name": "stdout",
          "text": [
            "2\n"
          ]
        }
      ]
    },
    {
      "cell_type": "code",
      "source": [
        "#Static Method\n",
        "\n",
        "class Math:\n",
        "    @staticmethod\n",
        "    def add(a, b):\n",
        "        return a + b\n",
        "\n",
        "# Usage\n",
        "result = Math.add(5, 10)\n",
        "print(result)  # Output: 15"
      ],
      "metadata": {
        "colab": {
          "base_uri": "https://localhost:8080/"
        },
        "id": "oF7vFgAOebZF",
        "outputId": "82b85914-c5df-401e-8440-e849307b4793"
      },
      "execution_count": null,
      "outputs": [
        {
          "output_type": "stream",
          "name": "stdout",
          "text": [
            "15\n"
          ]
        }
      ]
    },
    {
      "cell_type": "code",
      "source": [
        "#without abs class\n",
        "class Animal:\n",
        "    def sound(self):\n",
        "        raise NotImplementedError(\"Subclasses must implement this method\")\n",
        "\n",
        "class Dog(Animal):\n",
        "    def sound(self):\n",
        "        return \"Bark\"\n",
        "\n",
        "class Cat(Animal):\n",
        "    def sound(self):\n",
        "        return \"Meow\"\n",
        "\n",
        "# Usage\n",
        "dog = Dog()\n",
        "cat = Cat()\n",
        "print(dog.sound())  # Output: Bark\n",
        "print(cat.sound())  # Output: Meow"
      ],
      "metadata": {
        "id": "1phta7W6elnN",
        "colab": {
          "base_uri": "https://localhost:8080/",
          "height": 106
        },
        "outputId": "87878ee0-4b21-4935-c126-818c087cdb07"
      },
      "execution_count": null,
      "outputs": [
        {
          "output_type": "error",
          "ename": "IndentationError",
          "evalue": "expected an indented block after class definition on line 2 (<ipython-input-12-87eb0c490f60>, line 6)",
          "traceback": [
            "\u001b[0;36m  File \u001b[0;32m\"<ipython-input-12-87eb0c490f60>\"\u001b[0;36m, line \u001b[0;32m6\u001b[0m\n\u001b[0;31m    class Dog(Animal):\u001b[0m\n\u001b[0m    ^\u001b[0m\n\u001b[0;31mIndentationError\u001b[0m\u001b[0;31m:\u001b[0m expected an indented block after class definition on line 2\n"
          ]
        }
      ]
    },
    {
      "cell_type": "code",
      "source": [
        "#Example using abc module\n",
        "from abc import ABC, abstractmethod\n",
        "\n",
        "class Animal(ABC):\n",
        "    @abstractmethod\n",
        "    def sound(self):\n",
        "        pass\n",
        "\n",
        "class Dog(Animal):\n",
        "    def sound(self):\n",
        "        return \"Bark\"\n",
        "\n",
        "class Cat(Animal):\n",
        "    def sound(self):\n",
        "        return \"Meow\"\n",
        "\n",
        "# Usage\n",
        "dog = Dog()\n",
        "cat = Cat()\n",
        "print(dog.sound())  # Output: Bark\n",
        "print(cat.sound())  # Output: Meow"
      ],
      "metadata": {
        "colab": {
          "base_uri": "https://localhost:8080/"
        },
        "id": "amOXtNBfndzj",
        "outputId": "dd9a122a-b71b-475e-aa42-b67035f5bf90"
      },
      "execution_count": null,
      "outputs": [
        {
          "output_type": "stream",
          "name": "stdout",
          "text": [
            "Bark\n",
            "Meow\n"
          ]
        }
      ]
    },
    {
      "cell_type": "code",
      "source": [
        "#Encapsulation\n",
        "class Car:\n",
        "    def __init__(self, make, model):\n",
        "        self.__make = make\n",
        "        self.__model = model\n",
        "\n",
        "    def get_make(self):\n",
        "        return self.__make\n",
        "\n",
        "    def get_model(self):\n",
        "        return self.__model\n",
        "\n",
        "    def set_model(self, model):\n",
        "        self.__model = model\n",
        "\n",
        "# Usage\n",
        "car = Car(\"Toyota\", \"Corolla\")\n",
        "print(car.get_make())  # Output: Toyota\n",
        "print(car.get_model())  # Output: Corolla\n",
        "car.set_model(\"Camry\")\n",
        "print(car.get_model())  # Output: Camry"
      ],
      "metadata": {
        "colab": {
          "base_uri": "https://localhost:8080/"
        },
        "id": "kdNuOaFynu82",
        "outputId": "2209b7f6-f206-4d62-bfb5-360f0be80021"
      },
      "execution_count": null,
      "outputs": [
        {
          "output_type": "stream",
          "name": "stdout",
          "text": [
            "Toyota\n",
            "Corolla\n",
            "Camry\n"
          ]
        }
      ]
    },
    {
      "cell_type": "code",
      "source": [
        "#Polymorphism\n",
        "class Bird:\n",
        "    def fly(self):\n",
        "        return \"Bird is flying\"\n",
        "\n",
        "class Airplane:\n",
        "    def fly(self):\n",
        "        return \"Airplane is flying\"\n",
        "\n",
        "# Usage\n",
        "def let_it_fly(flyable):\n",
        "    return flyable.fly()\n",
        "\n",
        "bird = Bird()\n",
        "airplane = Airplane()\n",
        "print(let_it_fly(bird))       # Output: Bird is flying\n",
        "print(let_it_fly(airplane))   # Output: Airplane is flying"
      ],
      "metadata": {
        "colab": {
          "base_uri": "https://localhost:8080/"
        },
        "id": "vt5ELgCKn01m",
        "outputId": "b666d64e-7501-4a29-fc70-59a6a87ea319"
      },
      "execution_count": null,
      "outputs": [
        {
          "output_type": "stream",
          "name": "stdout",
          "text": [
            "Bird is flying\n",
            "Airplane is flying\n"
          ]
        }
      ]
    },
    {
      "cell_type": "code",
      "source": [
        "#Property Decorators\n",
        "class Circle:\n",
        "    def __init__(self, radius):\n",
        "        self._radius = radius\n",
        "\n",
        "    @property\n",
        "    def radius(self):\n",
        "        return self._radius\n",
        "\n",
        "    @radius.setter\n",
        "    def radius(self, value):\n",
        "        if value >= 0:\n",
        "            self._radius = value\n",
        "        else:\n",
        "            raise ValueError(\"Radius cannot be negative\")\n",
        "\n",
        "# Usage\n",
        "circle = Circle(5)\n",
        "print(circle.radius)  # Output: 5\n",
        "circle.radius = 10\n",
        "print(circle.radius)  # Output: 10"
      ],
      "metadata": {
        "colab": {
          "base_uri": "https://localhost:8080/"
        },
        "id": "mI3xIG3un9_F",
        "outputId": "0466c408-ff3b-4b6a-dd81-d8942f23c06a"
      },
      "execution_count": null,
      "outputs": [
        {
          "output_type": "stream",
          "name": "stdout",
          "text": [
            "5\n",
            "10\n"
          ]
        }
      ]
    }
  ]
}